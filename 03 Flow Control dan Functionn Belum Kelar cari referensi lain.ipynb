{
 "cells": [
  {
   "cell_type": "markdown",
   "metadata": {},
   "source": [
    "# Flow Control dan Fungsi"
   ]
  },
  {
   "cell_type": "markdown",
   "metadata": {},
   "source": [
    "## 1 Penggunaan if..., elif ... else..."
   ]
  },
  {
   "cell_type": "code",
   "execution_count": 3,
   "metadata": {},
   "outputs": [],
   "source": [
    "i='immanuel'"
   ]
  },
  {
   "cell_type": "code",
   "execution_count": 4,
   "metadata": {},
   "outputs": [
    {
     "name": "stdout",
     "output_type": "stream",
     "text": [
      "immanuel\n"
     ]
    }
   ],
   "source": [
    "print(i)"
   ]
  },
  {
   "cell_type": "code",
   "execution_count": 5,
   "metadata": {},
   "outputs": [],
   "source": [
    "s='siburian'"
   ]
  },
  {
   "cell_type": "code",
   "execution_count": 6,
   "metadata": {},
   "outputs": [
    {
     "name": "stdout",
     "output_type": "stream",
     "text": [
      "siburian\n"
     ]
    }
   ],
   "source": [
    "print(s)"
   ]
  },
  {
   "cell_type": "code",
   "execution_count": 9,
   "metadata": {},
   "outputs": [],
   "source": [
    "#if(conditional)"
   ]
  },
  {
   "cell_type": "code",
   "execution_count": 12,
   "metadata": {},
   "outputs": [
    {
     "name": "stdout",
     "output_type": "stream",
     "text": [
      "a lebih besar dari 5\n"
     ]
    }
   ],
   "source": [
    "a = 10\n",
    "\n",
    "if a>5:\n",
    "    print ('a lebih besar dari 5')"
   ]
  },
  {
   "cell_type": "code",
   "execution_count": 15,
   "metadata": {},
   "outputs": [
    {
     "name": "stdout",
     "output_type": "stream",
     "text": [
      "a lebih besar dari 5\n"
     ]
    }
   ],
   "source": [
    "a=10\n",
    "\n",
    "if a>5:\n",
    "    print('a lebih besar dari 5')"
   ]
  },
  {
   "cell_type": "code",
   "execution_count": 16,
   "metadata": {},
   "outputs": [
    {
     "name": "stdout",
     "output_type": "stream",
     "text": [
      "i lebih kecil 30\n"
     ]
    }
   ],
   "source": [
    "i=24\n",
    "\n",
    "if i<30:\n",
    "    print('i lebih kecil 30')"
   ]
  },
  {
   "cell_type": "code",
   "execution_count": 17,
   "metadata": {},
   "outputs": [
    {
     "name": "stdout",
     "output_type": "stream",
     "text": [
      "aaa lebih kecil dari 20\n"
     ]
    }
   ],
   "source": [
    "print('aaa lebih kecil dari 20')"
   ]
  },
  {
   "cell_type": "code",
   "execution_count": 21,
   "metadata": {},
   "outputs": [],
   "source": [
    "##penggunaan dua syarat atau lebih\n",
    "a=4\n",
    "b=10\n",
    "\n",
    "if(a>=10 and b>2):\n",
    "    print('zip..!!')"
   ]
  },
  {
   "cell_type": "code",
   "execution_count": 20,
   "metadata": {},
   "outputs": [
    {
     "name": "stdout",
     "output_type": "stream",
     "text": [
      "zip..!!\n"
     ]
    }
   ],
   "source": [
    "## penggunaan dua syarat atau lebih\n",
    "a = 4\n",
    "b = 10\n",
    "\n",
    "\n",
    "if (a>=10 or b>2):\n",
    "    print('zip..!!')"
   ]
  },
  {
   "cell_type": "markdown",
   "metadata": {},
   "source": [
    "## 1.2 if... else ... \n",
    "if ... else... digunaknan untuk menjalankan perintah dengan persyaratan tertentu, namun jika tidak memenuhi persyaratan akan dijalankan perintah yang terdapat pada else ... Syntax penggunaan if ... else... adalah:"
   ]
  },
  {
   "cell_type": "code",
   "execution_count": null,
   "metadata": {},
   "outputs": [],
   "source": [
    "if (conditional):\n",
    "    (command 1)\n",
    "else:\n",
    "    (command 2)"
   ]
  },
  {
   "cell_type": "code",
   "execution_count": 23,
   "metadata": {},
   "outputs": [],
   "source": [
    "###note: penggunaan titik dua : dan tabulasi pada syntax menandakan perintah yang berada dalam if... atau else..."
   ]
  },
  {
   "cell_type": "code",
   "execution_count": 25,
   "metadata": {},
   "outputs": [
    {
     "name": "stdout",
     "output_type": "stream",
     "text": [
      "a lebih besar dari 5\n"
     ]
    }
   ],
   "source": [
    "a=10\n",
    "\n",
    "if a>5:\n",
    "    print('a lebih besar dari 5')\n",
    "else:\n",
    "    print('a lebih kecil dari 5')"
   ]
  },
  {
   "cell_type": "code",
   "execution_count": 4,
   "metadata": {},
   "outputs": [
    {
     "name": "stdout",
     "output_type": "stream",
     "text": [
      "miring ke kiri\n"
     ]
    }
   ],
   "source": [
    "a=10\n",
    "b=15\n",
    "c=100\n",
    "m=(b-a)/c\n",
    "\n",
    "if m>1:\n",
    "    print('miring ke kanan')\n",
    "else:\n",
    "    print('miring ke kiri')"
   ]
  },
  {
   "cell_type": "code",
   "execution_count": null,
   "metadata": {},
   "outputs": [],
   "source": []
  },
  {
   "cell_type": "code",
   "execution_count": 3,
   "metadata": {},
   "outputs": [
    {
     "name": "stdout",
     "output_type": "stream",
     "text": [
      "miring ke kiri\n"
     ]
    }
   ],
   "source": [
    "a = 10\n",
    "b = 15\n",
    "d = 100\n",
    "m = (b-a)/d\n",
    "\n",
    "if m>1:\n",
    "    print('miring ke kanan')\n",
    "else:\n",
    "    print('miring ke kiri')\n",
    "\n"
   ]
  },
  {
   "cell_type": "markdown",
   "metadata": {},
   "source": [
    "## 1.3 Nested if...'s "
   ]
  },
  {
   "cell_type": "markdown",
   "metadata": {},
   "source": [
    "#### Nested if... adalah perintah if di dalam if. Secara sederhana: penggunaan beberapa syarat bertingkat."
   ]
  },
  {
   "cell_type": "code",
   "execution_count": 5,
   "metadata": {},
   "outputs": [
    {
     "ename": "SyntaxError",
     "evalue": "invalid syntax (<ipython-input-5-1ce7ff2475ab>, line 1)",
     "output_type": "error",
     "traceback": [
      "\u001b[1;36m  File \u001b[1;32m\"<ipython-input-5-1ce7ff2475ab>\"\u001b[1;36m, line \u001b[1;32m1\u001b[0m\n\u001b[1;33m    if(conditional 1):\u001b[0m\n\u001b[1;37m                   ^\u001b[0m\n\u001b[1;31mSyntaxError\u001b[0m\u001b[1;31m:\u001b[0m invalid syntax\n"
     ]
    }
   ],
   "source": [
    "if(conditional 1):\n",
    "    if(conditional 2):\n",
    "        (command)"
   ]
  },
  {
   "cell_type": "code",
   "execution_count": 6,
   "metadata": {},
   "outputs": [
    {
     "name": "stdout",
     "output_type": "stream",
     "text": [
      "dong..!!\n"
     ]
    }
   ],
   "source": [
    "## penggunaan nested if's\n",
    "a = 4\n",
    "b = 10\n",
    "\n",
    "if a>=10:\n",
    "    if b<20:\n",
    "        print('zip...!!')\n",
    "    else:\n",
    "        print('duh...!!')\n",
    "else:\n",
    "    print('dong..!!')"
   ]
  },
  {
   "cell_type": "markdown",
   "metadata": {},
   "source": [
    "### 1.4 Penggunaan elif.. "
   ]
  },
  {
   "cell_type": "markdown",
   "metadata": {},
   "source": [
    "elif... digunakan jika terdapat beberapa pilihan perysaratan untuk menjalankan perintah. elif... selalu digunakan setelah statement if....\n",
    "Syntax penulisan elif... adalah:"
   ]
  },
  {
   "cell_type": "code",
   "execution_count": null,
   "metadata": {},
   "outputs": [],
   "source": [
    "if(conditional 1):\n",
    "    (command 1)\n",
    "elif(conditional 2):\n",
    "    (command 2)\n",
    "else:\n",
    "    (command 3)"
   ]
  },
  {
   "cell_type": "code",
   "execution_count": 9,
   "metadata": {},
   "outputs": [
    {
     "name": "stdout",
     "output_type": "stream",
     "text": [
      "sedang\n"
     ]
    }
   ],
   "source": [
    "a = 10\n",
    "\n",
    "if a >= 15:\n",
    "    print('besar')\n",
    "elif a>=10 and a<15:\n",
    "    print('sedang')\n",
    "else:\n",
    "    print('kecil')"
   ]
  },
  {
   "cell_type": "code",
   "execution_count": null,
   "metadata": {},
   "outputs": [],
   "source": []
  },
  {
   "cell_type": "code",
   "execution_count": null,
   "metadata": {},
   "outputs": [],
   "source": []
  },
  {
   "cell_type": "markdown",
   "metadata": {},
   "source": [
    "# 2. Looping dengan menggunakan while... "
   ]
  },
  {
   "cell_type": "markdown",
   "metadata": {},
   "source": [
    "## 2.1 Penggunaan while ... "
   ]
  },
  {
   "cell_type": "markdown",
   "metadata": {},
   "source": [
    "perintah while digunakan untuk mengulang peritnah selama perintah syarat terpenuhi, berbeda dengan if.. yang akan menjalankan perintah satukali setelah persyaraten terpenuhi.\n",
    "\n",
    "Secara harfiah, peritnah while dapat terdiri atas:\n",
    "Contoh sytax while:"
   ]
  },
  {
   "cell_type": "code",
   "execution_count": null,
   "metadata": {},
   "outputs": [],
   "source": [
    "while(condition 1):\n",
    "    (command 1)\n",
    "else (condition 2):\n",
    "    (command 2)"
   ]
  },
  {
   "cell_type": "code",
   "execution_count": 10,
   "metadata": {},
   "outputs": [],
   "source": [
    "dict1 = {'nama': ['sania', 'ghaizain', 'yan', 'yusuf', 'ato', 'salim', 'fahri'],\n",
    "         'uang': [100000, 50000, 20000, 100000, 50000, 50000, 20000]\n",
    "        }"
   ]
  },
  {
   "cell_type": "code",
   "execution_count": 11,
   "metadata": {},
   "outputs": [
    {
     "data": {
      "text/plain": [
       "7"
      ]
     },
     "execution_count": 11,
     "metadata": {},
     "output_type": "execute_result"
    }
   ],
   "source": [
    "len(dict1['uang'])"
   ]
  },
  {
   "cell_type": "code",
   "execution_count": 12,
   "metadata": {},
   "outputs": [
    {
     "name": "stdout",
     "output_type": "stream",
     "text": [
      "jumlah akhir: 100000 milik: sania  uangnya: 100000\n",
      "jumlah akhir: 150000 milik: ghaizain  uangnya: 50000\n",
      "jumlah akhir: 170000 milik: yan  uangnya: 20000\n",
      "jumlah akhir: 270000 milik: yusuf  uangnya: 100000\n",
      "jumlah akhir: 320000 milik: ato  uangnya: 50000\n",
      "jumlah akhir: 370000 milik: salim  uangnya: 50000\n",
      "jumlah akhir: 390000 milik: fahri  uangnya: 20000\n"
     ]
    }
   ],
   "source": [
    "\n",
    "jumlah = 0\n",
    "\n",
    "i = 0\n",
    "while i < len(dict1['uang']):\n",
    "    jumlah = jumlah + dict1[\"uang\"][i]\n",
    "    print (\"jumlah akhir:\", jumlah, \n",
    "           \"milik:\",dict1[\"nama\"][i],\n",
    "           \" uangnya:\", dict1[\"uang\"][i])\n",
    "    i = i+1"
   ]
  },
  {
   "cell_type": "code",
   "execution_count": null,
   "metadata": {},
   "outputs": [],
   "source": [
    "dict = { 'no':[1,2,3,4,5],\n",
    "       'nim': [001,002,003,004,005],\n",
    "       'nama': ['satu','dua','tiga','empat','lima'],\n",
    "       'nilai': [90,85,80,75,70]}"
   ]
  },
  {
   "cell_type": "code",
   "execution_count": null,
   "metadata": {},
   "outputs": [],
   "source": [
    "jumlah=0\n",
    "\n",
    "i=0\n",
    "while i<len(dict1['uang']):\n",
    "    print('jumlah akhir',jumlah,'milik:',dict1['nama'][i],\n",
    "    'uangnya:',dict1['uang'][i])"
   ]
  },
  {
   "cell_type": "code",
   "execution_count": null,
   "metadata": {},
   "outputs": [],
   "source": [
    "dict2 = {'no': [1,2,3,4,5,6,7],\n",
    "         'nim': [1001, 1002, 1003, 1004, 1005, 1009, 1010],\n",
    "         'nama': ['sari', 'ani', 'laras', 'dicky', 'ari', 'rani', 'agus'],\n",
    "         'nilai': [85, 65, 87, 95, 75, 60, 80]}"
   ]
  },
  {
   "cell_type": "code",
   "execution_count": 10,
   "metadata": {},
   "outputs": [
    {
     "ename": "NameError",
     "evalue": "name 'dict2' is not defined",
     "output_type": "error",
     "traceback": [
      "\u001b[1;31m---------------------------------------------------------------------------\u001b[0m",
      "\u001b[1;31mNameError\u001b[0m                                 Traceback (most recent call last)",
      "\u001b[1;32m<ipython-input-10-d5b95938c369>\u001b[0m in \u001b[0;36m<module>\u001b[1;34m\u001b[0m\n\u001b[0;32m      2\u001b[0m \u001b[1;33m\u001b[0m\u001b[0m\n\u001b[0;32m      3\u001b[0m \u001b[0mi\u001b[0m\u001b[1;33m=\u001b[0m\u001b[1;36m0\u001b[0m\u001b[1;33m\u001b[0m\u001b[1;33m\u001b[0m\u001b[0m\n\u001b[1;32m----> 4\u001b[1;33m \u001b[1;32mwhile\u001b[0m \u001b[0mi\u001b[0m\u001b[1;33m<\u001b[0m\u001b[0mlen\u001b[0m\u001b[1;33m(\u001b[0m\u001b[0mdict2\u001b[0m\u001b[1;33m[\u001b[0m\u001b[1;34m'nilai'\u001b[0m\u001b[1;33m]\u001b[0m\u001b[1;33m)\u001b[0m\u001b[1;33m:\u001b[0m\u001b[1;33m\u001b[0m\u001b[1;33m\u001b[0m\u001b[0m\n\u001b[0m\u001b[0;32m      5\u001b[0m     print('nama: ', dict2['nama'][i], \n\u001b[0;32m      6\u001b[0m           \u001b[1;34m'nim: '\u001b[0m\u001b[1;33m,\u001b[0m \u001b[0mdict2\u001b[0m\u001b[1;33m[\u001b[0m\u001b[1;34m'nim'\u001b[0m\u001b[1;33m]\u001b[0m\u001b[1;33m[\u001b[0m\u001b[0mi\u001b[0m\u001b[1;33m]\u001b[0m\u001b[1;33m,\u001b[0m\u001b[1;33m\u001b[0m\u001b[1;33m\u001b[0m\u001b[0m\n",
      "\u001b[1;31mNameError\u001b[0m: name 'dict2' is not defined"
     ]
    }
   ],
   "source": [
    "rata2=0\n",
    "\n",
    "i=0\n",
    "while i<len(dict2['nilai']):\n",
    "    print('nama: ', dict2['nama'][i], \n",
    "          'nim: ', dict2['nim'][i], \n",
    "          'nilai: ', dict2['nilai'][i])\n",
    "    \n",
    "    i = i+1"
   ]
  },
  {
   "cell_type": "code",
   "execution_count": 9,
   "metadata": {},
   "outputs": [
    {
     "ename": "SyntaxError",
     "evalue": "invalid syntax (<ipython-input-9-c30b4564a318>, line 7)",
     "output_type": "error",
     "traceback": [
      "\u001b[1;36m  File \u001b[1;32m\"<ipython-input-9-c30b4564a318>\"\u001b[1;36m, line \u001b[1;32m7\u001b[0m\n\u001b[1;33m    else:\u001b[0m\n\u001b[1;37m    ^\u001b[0m\n\u001b[1;31mSyntaxError\u001b[0m\u001b[1;31m:\u001b[0m invalid syntax\n"
     ]
    }
   ],
   "source": [
    "i=2\n",
    "\n",
    "while i<5:\n",
    "    print('tok',i)\n",
    "    i=i+3\n",
    "    \n",
    "    else:\n",
    "        print('done')"
   ]
  },
  {
   "cell_type": "code",
   "execution_count": null,
   "metadata": {},
   "outputs": [],
   "source": []
  },
  {
   "cell_type": "markdown",
   "metadata": {},
   "source": [
    "## 2.2 Nested while.."
   ]
  },
  {
   "cell_type": "code",
   "execution_count": null,
   "metadata": {},
   "outputs": [],
   "source": [
    "#nested while adalah penggunaan while.. dalam while... Contoh penggunaan nested while.. adalah:"
   ]
  },
  {
   "cell_type": "code",
   "execution_count": null,
   "metadata": {},
   "outputs": [],
   "source": [
    "while (conditional1):\n",
    "    while(conditional 2):\n",
    "        command"
   ]
  },
  {
   "cell_type": "code",
   "execution_count": 8,
   "metadata": {},
   "outputs": [],
   "source": [
    "j = 0\n",
    "j = 0\n",
    "\n",
    "while i<5:\n",
    "    while j < 3:\n",
    "        print('ini i:',i,'dan ini j:',j)\n",
    "        j=j+1\n",
    "    j=0\n",
    "    i=i+1"
   ]
  },
  {
   "cell_type": "code",
   "execution_count": 1,
   "metadata": {},
   "outputs": [
    {
     "name": "stdout",
     "output_type": "stream",
     "text": [
      "ini adalah iterasi ke:  13\n",
      "ini adalah iterasi ke:  12\n",
      "oh ini ada 12\n",
      "ini adalah iterasi ke:  11\n"
     ]
    }
   ],
   "source": [
    "i = 13\n",
    "while i > 10:\n",
    "    print ('ini adalah iterasi ke: ',i)\n",
    "    if i == 12:\n",
    "        print ('oh ini ada 12')\n",
    "    i = i - 1"
   ]
  },
  {
   "cell_type": "markdown",
   "metadata": {},
   "source": [
    "## 3. Looping dengan menggunakan for ... "
   ]
  },
  {
   "cell_type": "markdown",
   "metadata": {},
   "source": [
    "### 3.1 Penggunaan for ..."
   ]
  },
  {
   "cell_type": "code",
   "execution_count": null,
   "metadata": {},
   "outputs": [],
   "source": [
    "Hampir sama dengan while ..., for ... digunakan juga untuk proses iterasi.\n",
    "\n",
    "Perbedaannya terletak pada objek yang diiterasikan.\n",
    "while ... menggunakan conditional,\n",
    "for ... menggunakan data container sebagai objek iterasi.\n",
    "Syntax yang digunakan untuk menggunakan iterasi dengan for ... adalah: "
   ]
  },
  {
   "cell_type": "code",
   "execution_count": null,
   "metadata": {},
   "outputs": [],
   "source": [
    "for(iterator) in (container):\n",
    "    (commands)"
   ]
  },
  {
   "cell_type": "code",
   "execution_count": null,
   "metadata": {},
   "outputs": [],
   "source": [
    "data=[0,2,3,2,1]\n",
    "\n",
    "for i in data:\n",
    "    print(i)"
   ]
  },
  {
   "cell_type": "code",
   "execution_count": null,
   "metadata": {},
   "outputs": [],
   "source": [
    "dict2 = {'no': [1,2,3,4,5,6,7],\n",
    "         'nim': [1001, 1002, 1003, 1004, 1005, 1009, 1010],\n",
    "         'nama': ['sari', 'ani', 'laras', 'dicky', 'ari', 'rani', 'agus'],\n",
    "         'nilai': [85, 65, 87, 95, 75, 60, 80]}"
   ]
  },
  {
   "cell_type": "code",
   "execution_count": null,
   "metadata": {},
   "outputs": [],
   "source": [
    "data = dict2['nim']\n",
    "\n",
    "for i in data:\n",
    "    print (i)"
   ]
  },
  {
   "cell_type": "code",
   "execution_count": null,
   "metadata": {},
   "outputs": [],
   "source": [
    "data = ['bagas', 'bagus', 'eno', 'dora']\n"
   ]
  },
  {
   "cell_type": "code",
   "execution_count": null,
   "metadata": {},
   "outputs": [],
   "source": [
    "for i,j in enumerate(data):\n",
    "    print (i, j)"
   ]
  },
  {
   "cell_type": "code",
   "execution_count": null,
   "metadata": {},
   "outputs": [],
   "source": [
    "###flow control tidak bisa di run\n",
    "idk"
   ]
  },
  {
   "cell_type": "code",
   "execution_count": null,
   "metadata": {},
   "outputs": [],
   "source": []
  },
  {
   "cell_type": "code",
   "execution_count": null,
   "metadata": {},
   "outputs": [],
   "source": []
  },
  {
   "cell_type": "markdown",
   "metadata": {},
   "source": [
    "# Function"
   ]
  },
  {
   "cell_type": "markdown",
   "metadata": {},
   "source": [
    "## 5.1 Deklarasi function "
   ]
  },
  {
   "cell_type": "markdown",
   "metadata": {},
   "source": [
    "function dalam python adalah objek yang berisi perintah (command). Objek tersebut bisa kita buat dan tentunya dijalankan. function dapat digunakan untuk mempermudah menggunakan perintah yang dipakai secara rutin.\n",
    "\n",
    "Dalam Python, pembuatan function sangat sederhana, function dapat dideklarasikan dengan cara:"
   ]
  },
  {
   "cell_type": "code",
   "execution_count": null,
   "metadata": {},
   "outputs": [],
   "source": [
    "def function (inputs):   -> baris menyatakan deklarasi dari sebuah perintah\n",
    "    commands             -> baris berisi perintah\n",
    "    returns              -> baris berisi luaran dari function"
   ]
  },
  {
   "cell_type": "code",
   "execution_count": null,
   "metadata": {},
   "outputs": [],
   "source": [
    "def bebek(orang='asdas'):\n",
    "    print('ini bebek luar biasa.kata',orang)"
   ]
  },
  {
   "cell_type": "code",
   "execution_count": null,
   "metadata": {},
   "outputs": [],
   "source": [
    "bebek('Hafiz')"
   ]
  },
  {
   "cell_type": "code",
   "execution_count": null,
   "metadata": {},
   "outputs": [],
   "source": [
    "def cetak(a='12345'):\n",
    "    print('yang di cetak adalah: ', a)\n",
    "\n",
    "cetak()"
   ]
  },
  {
   "cell_type": "code",
   "execution_count": null,
   "metadata": {},
   "outputs": [],
   "source": [
    "cetak('89010')"
   ]
  },
  {
   "cell_type": "code",
   "execution_count": null,
   "metadata": {},
   "outputs": [],
   "source": [
    "x = '2000'\n",
    "cetak(x)"
   ]
  },
  {
   "cell_type": "code",
   "execution_count": 3,
   "metadata": {},
   "outputs": [],
   "source": [
    "def bebek(orang='asdas'):\n",
    "    print('ini bebek luar biasa.kata',orang)"
   ]
  },
  {
   "cell_type": "code",
   "execution_count": 4,
   "metadata": {},
   "outputs": [
    {
     "name": "stdout",
     "output_type": "stream",
     "text": [
      "ini bebek luar biasa.kata Hafiz\n"
     ]
    }
   ],
   "source": [
    "bebek('Hafiz')"
   ]
  },
  {
   "cell_type": "code",
   "execution_count": 5,
   "metadata": {},
   "outputs": [
    {
     "name": "stdout",
     "output_type": "stream",
     "text": [
      "yang di cetak adalah:  12345\n"
     ]
    }
   ],
   "source": [
    "def cetak(a='12345'):\n",
    "    print('yang di cetak adalah: ', a)\n",
    "\n",
    "cetak()"
   ]
  },
  {
   "cell_type": "code",
   "execution_count": 6,
   "metadata": {},
   "outputs": [
    {
     "name": "stdout",
     "output_type": "stream",
     "text": [
      "yang di cetak adalah:  89010\n"
     ]
    }
   ],
   "source": [
    "cetak('89010')"
   ]
  },
  {
   "cell_type": "code",
   "execution_count": 7,
   "metadata": {},
   "outputs": [
    {
     "name": "stdout",
     "output_type": "stream",
     "text": [
      "yang di cetak adalah:  2000\n"
     ]
    }
   ],
   "source": [
    "x = '2000'\n",
    "cetak(x)"
   ]
  },
  {
   "cell_type": "code",
   "execution_count": null,
   "metadata": {},
   "outputs": [],
   "source": []
  }
 ],
 "metadata": {
  "kernelspec": {
   "display_name": "Python 3",
   "language": "python",
   "name": "python3"
  },
  "language_info": {
   "codemirror_mode": {
    "name": "ipython",
    "version": 3
   },
   "file_extension": ".py",
   "mimetype": "text/x-python",
   "name": "python",
   "nbconvert_exporter": "python",
   "pygments_lexer": "ipython3",
   "version": "3.8.5"
  }
 },
 "nbformat": 4,
 "nbformat_minor": 4
}
